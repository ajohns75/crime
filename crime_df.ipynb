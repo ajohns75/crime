{
 "cells": [
  {
   "cell_type": "code",
   "execution_count": 57,
   "metadata": {},
   "outputs": [],
   "source": [
    "import pandas as pd\n",
    "import numpy as np"
   ]
  },
  {
   "cell_type": "code",
   "execution_count": 58,
   "metadata": {},
   "outputs": [],
   "source": [
    "baltimore = pd.read_csv('BPD_Part_1_Victim_Based_Crime_Data.csv', low_memory=False)\n",
    "mont = pd.read_csv('Crime.csv', low_memory=False)"
   ]
  },
  {
   "cell_type": "code",
   "execution_count": 59,
   "metadata": {},
   "outputs": [],
   "source": [
    "# making violent crime lists\n",
    "balt_v = ['AGG. ASSAULT', 'COMMON ASSAULT', 'HOMICIDE', 'RAPE', 'SHOOTING']\n",
    "mont_v = ['Forcible Sodomy','Fondling','Simple Assault','Sexual Assault With An Object',\n",
    "          'Forcible Rape','Aggravated Assault','Forcible Fondling','Murder and Nonnegligent Manslaughter',\n",
    "          'Kidnapping/Abduction','Justifiable Homicide','Negligent Manslaughter',\n",
    "         'Human Trafficking, Commercial Sex Acts']"
   ]
  },
  {
   "cell_type": "code",
   "execution_count": 60,
   "metadata": {},
   "outputs": [],
   "source": [
    "# create columns in dataframes for violent [1] and nonviolent [0]\n",
    "baltimore['violent'] = baltimore.apply(lambda x: int(x['Description'] in balt_v), axis=1)\n",
    "mont['violent'] = mont.apply(lambda x: int(x['Crime Name2'] in mont_v), axis=1)"
   ]
  }
 ],
 "metadata": {
  "kernelspec": {
   "display_name": "Python 3",
   "language": "python",
   "name": "python3"
  },
  "language_info": {
   "codemirror_mode": {
    "name": "ipython",
    "version": 3
   },
   "file_extension": ".py",
   "mimetype": "text/x-python",
   "name": "python",
   "nbconvert_exporter": "python",
   "pygments_lexer": "ipython3",
   "version": "3.6.5"
  }
 },
 "nbformat": 4,
 "nbformat_minor": 4
}
